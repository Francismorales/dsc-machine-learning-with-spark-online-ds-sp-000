{
 "cells": [
  {
   "cell_type": "markdown",
   "metadata": {},
   "source": [
    "# Machine Learning with Spark\n",
    "\n",
    "## Introduction\n",
    "\n",
    "You've now explored how to perform operations on Spark RDDs for simple MapReduce tasks. Luckily, there are far more advanced use cases for Spark, and many of them are found in the `ml` library, which we are going to explore in this lesson.\n",
    "\n",
    "\n",
    "## Objectives\n",
    "\n",
    "You will be able to: \n",
    "\n",
    "- Load and manipulate data using Spark DataFrames  \n",
    "- Define estimators and transformers in Spark ML \n",
    "- Create a Spark ML pipeline that transforms data and runs over a grid of hyperparameters \n",
    "\n",
    "\n",
    "\n",
    "## A Tale of Two Libraries\n",
    "\n",
    "If you look at the PySpark documentation, you'll notice that there are two different libraries for machine learning, [mllib](https://spark.apache.org/docs/latest/api/python/pyspark.mllib.html) and [ml](https://spark.apache.org/docs/latest/api/python/pyspark.ml.html). These libraries are extremely similar to one another, the only difference being that the `mllib` library is built upon the RDDs you just practiced using; whereas, the `ml` library is built on higher level Spark DataFrames, which has methods and attributes similar to pandas. Spark has stated that in the future, it is going to devote more effort to the `ml` library and that `mllib` will become deprecated. It's important to note that these libraries are much younger than pandas and scikit-learn and there are not as many features present in either.\n",
    "\n",
    "## Spark DataFrames\n",
    "\n",
    "In the previous lessons, you were introduced to SparkContext as the primary way to connect with a Spark Application. Here, we will be using SparkSession, which is from the [sql](https://spark.apache.org/docs/latest/api/python/pyspark.sql.html) component of PySpark. The SparkSession acts the same way as SparkContext; it is a bridge between Python and the Spark Application. It's just built on top of the Spark SQL API, a higher-level API than RDDs. In fact, a SparkContext object is spun up around which the SparkSession object is wrapped. Let's go through the process of manipulating some data here. For this example, we're going to be using the [Forest Fire dataset](https://archive.ics.uci.edu/ml/datasets/Forest+Fires) from UCI, which contains data about the area burned by wildfires in the Northeast region of Portugal in relation to numerous other factors.\n",
    "\n",
    "To begin with, let's create a SparkSession so that we can spin up our spark application. "
   ]
  },
  {
   "cell_type": "code",
   "execution_count": 1,
   "metadata": {},
   "outputs": [],
   "source": [
    "# importing the necessary libraries\n",
    "from pyspark import SparkContext\n",
    "from pyspark.sql import SparkSession\n",
    "# sc = SparkContext('local[*]')\n",
    "# spark = SparkSession(sc)"
   ]
  },
  {
   "cell_type": "markdown",
   "metadata": {},
   "source": [
    "To create a SparkSession: "
   ]
  },
  {
   "cell_type": "code",
   "execution_count": 2,
   "metadata": {},
   "outputs": [],
   "source": [
    "spark = SparkSession.builder.master('local').getOrCreate()"
   ]
  },
  {
   "cell_type": "markdown",
   "metadata": {},
   "source": [
    "Now, we'll load the data into a PySpark DataFrame: "
   ]
  },
  {
   "cell_type": "code",
   "execution_count": 3,
   "metadata": {},
   "outputs": [
    {
     "data": {
      "text/plain": [
       "pyspark.sql.dataframe.DataFrame"
      ]
     },
     "execution_count": 3,
     "metadata": {},
     "output_type": "execute_result"
    }
   ],
   "source": [
    "## reading in pyspark df\n",
    "spark_df = spark.read.csv('./forestfires.csv', header='true', inferSchema='true')\n",
    "\n",
    "## observing the datatype of df\n",
    "type(spark_df)"
   ]
  },
  {
   "cell_type": "markdown",
   "metadata": {},
   "source": [
    "You'll notice that some of the methods are extremely similar or the same as those found within Pandas."
   ]
  },
  {
   "cell_type": "code",
   "execution_count": 4,
   "metadata": {},
   "outputs": [
    {
     "data": {
      "text/plain": [
       "Row(X=7, Y=5, month='mar', day='fri', FFMC=86.2, DMC=26.2, DC=94.3, ISI=5.1, temp=8.2, RH=51, wind=6.7, rain=0.0, area=0.0)"
      ]
     },
     "execution_count": 4,
     "metadata": {},
     "output_type": "execute_result"
    }
   ],
   "source": [
    "spark_df.head()"
   ]
  },
  {
   "cell_type": "code",
   "execution_count": 5,
   "metadata": {},
   "outputs": [
    {
     "data": {
      "text/plain": [
       "['X',\n",
       " 'Y',\n",
       " 'month',\n",
       " 'day',\n",
       " 'FFMC',\n",
       " 'DMC',\n",
       " 'DC',\n",
       " 'ISI',\n",
       " 'temp',\n",
       " 'RH',\n",
       " 'wind',\n",
       " 'rain',\n",
       " 'area']"
      ]
     },
     "execution_count": 5,
     "metadata": {},
     "output_type": "execute_result"
    }
   ],
   "source": [
    "spark_df.columns"
   ]
  },
  {
   "cell_type": "markdown",
   "metadata": {},
   "source": [
    "Selecting multiple columns is similar as well: "
   ]
  },
  {
   "cell_type": "code",
   "execution_count": 6,
   "metadata": {},
   "outputs": [
    {
     "data": {
      "text/plain": [
       "DataFrame[month: string, day: string, rain: double]"
      ]
     },
     "execution_count": 6,
     "metadata": {},
     "output_type": "execute_result"
    }
   ],
   "source": [
    "spark_df[['month','day','rain']]"
   ]
  },
  {
   "cell_type": "markdown",
   "metadata": {},
   "source": [
    "But selecting one column is different. If you want to maintain the methods of a spark DataFrame, you should use the `.select()` method. If you want to just select the column, you can use the same method you would use in pandas (this is primarily what you would use if you're attempting to create a boolean mask). "
   ]
  },
  {
   "cell_type": "code",
   "execution_count": 7,
   "metadata": {
    "scrolled": true
   },
   "outputs": [],
   "source": [
    "d = spark_df.select('rain')"
   ]
  },
  {
   "cell_type": "code",
   "execution_count": 8,
   "metadata": {},
   "outputs": [
    {
     "data": {
      "text/plain": [
       "Column<b'rain'>"
      ]
     },
     "execution_count": 8,
     "metadata": {},
     "output_type": "execute_result"
    }
   ],
   "source": [
    "spark_df['rain']"
   ]
  },
  {
   "cell_type": "markdown",
   "metadata": {},
   "source": [
    "Let's take a look at all of our data types in this dataframe"
   ]
  },
  {
   "cell_type": "code",
   "execution_count": 9,
   "metadata": {},
   "outputs": [
    {
     "data": {
      "text/plain": [
       "[('X', 'int'),\n",
       " ('Y', 'int'),\n",
       " ('month', 'string'),\n",
       " ('day', 'string'),\n",
       " ('FFMC', 'double'),\n",
       " ('DMC', 'double'),\n",
       " ('DC', 'double'),\n",
       " ('ISI', 'double'),\n",
       " ('temp', 'double'),\n",
       " ('RH', 'int'),\n",
       " ('wind', 'double'),\n",
       " ('rain', 'double'),\n",
       " ('area', 'double')]"
      ]
     },
     "execution_count": 9,
     "metadata": {},
     "output_type": "execute_result"
    }
   ],
   "source": [
    "spark_df.dtypes"
   ]
  },
  {
   "cell_type": "markdown",
   "metadata": {},
   "source": [
    "## Aggregations with our DataFrame"
   ]
  },
  {
   "cell_type": "markdown",
   "metadata": {},
   "source": [
    "Let's investigate to see if there is any correlation between what month it is and the area of fire: "
   ]
  },
  {
   "cell_type": "code",
   "execution_count": null,
   "metadata": {},
   "outputs": [],
   "source": [
    "spark_df_months = spark_df.groupBy('month').agg({'area': 'mean'})\n",
    "spark_df_months"
   ]
  },
  {
   "cell_type": "markdown",
   "metadata": {},
   "source": [
    "Notice how the grouped DataFrame is not returned when you call the aggregation method. Remember, this is still Spark! The transformations and actions are kept separate so that it is easier to manage large quantities of data. You can perform the transformation by calling `.collect()`: "
   ]
  },
  {
   "cell_type": "code",
   "execution_count": null,
   "metadata": {},
   "outputs": [],
   "source": [
    "spark_df_months.collect()"
   ]
  },
  {
   "cell_type": "markdown",
   "metadata": {},
   "source": [
    "As you can see, there seem to be larger area fires during what would be considered the summer months in Portugal. On your own, practice more aggregations and manipulations that you might be able to perform on this dataset. "
   ]
  },
  {
   "cell_type": "markdown",
   "metadata": {},
   "source": [
    "## Boolean Masking \n",
    "\n",
    "Boolean masking also works with PySpark DataFrames just like Pandas DataFrames, the only difference being that the `.filter()` method is used in PySpark. To try this out, let's compare the amount of fire in those areas with absolutely no rain to those areas that had rain."
   ]
  },
  {
   "cell_type": "code",
   "execution_count": 10,
   "metadata": {},
   "outputs": [],
   "source": [
    "no_rain = spark_df.filter(spark_df['rain'] == 0.0)\n",
    "some_rain = spark_df.filter(spark_df['rain'] > 0.0)"
   ]
  },
  {
   "cell_type": "markdown",
   "metadata": {},
   "source": [
    "Now, to perform calculations to find the mean of a column, we'll have to import functions from `pyspark.sql`. As always, to read more about them, check out the [documentation](https://spark.apache.org/docs/latest/api/python/pyspark.sql.html#module-pyspark.sql.functions)."
   ]
  },
  {
   "cell_type": "code",
   "execution_count": 11,
   "metadata": {},
   "outputs": [
    {
     "name": "stdout",
     "output_type": "stream",
     "text": [
      "+------------------+\n",
      "|         avg(area)|\n",
      "+------------------+\n",
      "|13.023693516699408|\n",
      "+------------------+\n",
      "\n",
      "no rain fire area:  None \n",
      "\n",
      "+---------+\n",
      "|avg(area)|\n",
      "+---------+\n",
      "|  1.62375|\n",
      "+---------+\n",
      "\n",
      "some rain fire area:  None \n",
      "\n"
     ]
    }
   ],
   "source": [
    "from pyspark.sql.functions import mean\n",
    "\n",
    "print('no rain fire area: ', no_rain.select(mean('area')).show(),'\\n')\n",
    "\n",
    "print('some rain fire area: ', some_rain.select(mean('area')).show(),'\\n')"
   ]
  },
  {
   "cell_type": "markdown",
   "metadata": {},
   "source": [
    "Yes there's definitely something there! Unsurprisingly, rain plays in a big factor in the spread of wildfire.\n",
    "\n",
    "Let's obtain data from only the summer months in Portugal (June, July, and August). We can also do the same for the winter months in Portugal (December, January, February)."
   ]
  },
  {
   "cell_type": "code",
   "execution_count": 12,
   "metadata": {},
   "outputs": [
    {
     "name": "stdout",
     "output_type": "stream",
     "text": [
      "+------------------+\n",
      "|         avg(area)|\n",
      "+------------------+\n",
      "|12.262317596566525|\n",
      "+------------------+\n",
      "\n",
      "summer months fire area None\n",
      "+-----------------+\n",
      "|        avg(area)|\n",
      "+-----------------+\n",
      "|7.918387096774193|\n",
      "+-----------------+\n",
      "\n",
      "winter months fire areas None\n"
     ]
    }
   ],
   "source": [
    "summer_months = spark_df.filter(spark_df['month'].isin(['jun','jul','aug']))\n",
    "winter_months = spark_df.filter(spark_df['month'].isin(['dec','jan','feb']))\n",
    "\n",
    "print('summer months fire area', summer_months.select(mean('area')).show())\n",
    "print('winter months fire areas', winter_months.select(mean('area')).show())"
   ]
  },
  {
   "cell_type": "markdown",
   "metadata": {},
   "source": [
    "## Machine Learning\n",
    "\n",
    "Now that we've performed some data manipulation and aggregation, lets get to the really cool stuff, machine learning! PySpark states that they've used scikit-learn as an inspiration for their implementation of a machine learning library. As a result, many of the methods and functionalities look similar, but there are some crucial distinctions. There are three main concepts found within the ML library:\n",
    "\n",
    "`Transformer`: An algorithm that transforms one PySpark DataFrame into another DataFrame. \n",
    "\n",
    "`Estimator`: An algorithm that can be fit onto a PySpark DataFrame that can then be used as a Transformer. \n",
    "\n",
    "`Pipeline`: A pipeline very similar to an `sklearn` pipeline that chains together different actions.\n",
    "\n",
    "The reasoning behind this separation of the fitting and transforming step is because Spark is lazily evaluated, so the 'fitting' of a model does not actually take place until the Transformation action is called. Let's examine what this actually looks like by performing a regression on the Forest Fire dataset. To start off with, we'll import the necessary libraries for our tasks."
   ]
  },
  {
   "cell_type": "code",
   "execution_count": 13,
   "metadata": {},
   "outputs": [],
   "source": [
    "from pyspark.ml.regression import RandomForestRegressor\n",
    "from pyspark.ml import feature\n",
    "from pyspark.ml.feature import StringIndexer, VectorAssembler, OneHotEncoderEstimator"
   ]
  },
  {
   "cell_type": "markdown",
   "metadata": {},
   "source": [
    "Looking at our data, one can see that all the categories are numerical except for day and month. We saw some correlation between the month and area burned in a fire, so we will include that in our model. The day of the week, however, is highly unlikely to have any effect on fire, so we will drop it from the DataFrame."
   ]
  },
  {
   "cell_type": "code",
   "execution_count": 14,
   "metadata": {},
   "outputs": [
    {
     "data": {
      "text/plain": [
       "Row(X=7, Y=5, month='mar', FFMC=86.2, DMC=26.2, DC=94.3, ISI=5.1, temp=8.2, RH=51, wind=6.7, rain=0.0, area=0.0)"
      ]
     },
     "execution_count": 14,
     "metadata": {},
     "output_type": "execute_result"
    }
   ],
   "source": [
    "fire_df = spark_df.drop('day')\n",
    "fire_df.head()"
   ]
  },
  {
   "cell_type": "markdown",
   "metadata": {},
   "source": [
    "In order for us to run our model, we need to turn the months variable into a dummy variable. In `ml` this is a 2-step process that first requires turning the categorical variable into a numerical index (`StringIndexer`). Only after the variable is an integer can PySpark create dummy variable columns related to each category (`OneHotEncoderEstimator`). Your key parameters when using these `ml` estimators are: `inputCol` (the column you want to change) and `outputCol` (where you will store the changed column). Here it is in action: "
   ]
  },
  {
   "cell_type": "code",
   "execution_count": 15,
   "metadata": {},
   "outputs": [],
   "source": [
    "si = StringIndexer(inputCol='month', outputCol='month_num')\n",
    "model = si.fit(fire_df)\n",
    "new_df = model.transform(fire_df)"
   ]
  },
  {
   "cell_type": "markdown",
   "metadata": {},
   "source": [
    "Note the small, but critical distinction between `sklearn`'s implementation of a transformer and PySpark's implementation. `sklearn` is more object oriented and Spark is more functional oriented."
   ]
  },
  {
   "cell_type": "code",
   "execution_count": 16,
   "metadata": {},
   "outputs": [
    {
     "data": {
      "text/plain": [
       "pyspark.ml.feature.StringIndexer"
      ]
     },
     "execution_count": 16,
     "metadata": {},
     "output_type": "execute_result"
    }
   ],
   "source": [
    "## this is an estimator (an untrained transformer)\n",
    "type(si)"
   ]
  },
  {
   "cell_type": "code",
   "execution_count": 17,
   "metadata": {},
   "outputs": [
    {
     "data": {
      "text/plain": [
       "pyspark.ml.feature.StringIndexerModel"
      ]
     },
     "execution_count": 17,
     "metadata": {},
     "output_type": "execute_result"
    }
   ],
   "source": [
    "## this is a transformer (a trained transformer)\n",
    "type(model)"
   ]
  },
  {
   "cell_type": "code",
   "execution_count": 18,
   "metadata": {},
   "outputs": [
    {
     "data": {
      "text/plain": [
       "['aug',\n",
       " 'sep',\n",
       " 'mar',\n",
       " 'jul',\n",
       " 'feb',\n",
       " 'jun',\n",
       " 'oct',\n",
       " 'apr',\n",
       " 'dec',\n",
       " 'jan',\n",
       " 'may',\n",
       " 'nov']"
      ]
     },
     "execution_count": 18,
     "metadata": {},
     "output_type": "execute_result"
    }
   ],
   "source": [
    "model.labels"
   ]
  },
  {
   "cell_type": "code",
   "execution_count": 19,
   "metadata": {},
   "outputs": [
    {
     "data": {
      "text/plain": [
       "[Row(X=7, Y=5, month='mar', FFMC=86.2, DMC=26.2, DC=94.3, ISI=5.1, temp=8.2, RH=51, wind=6.7, rain=0.0, area=0.0, month_num=2.0),\n",
       " Row(X=7, Y=4, month='oct', FFMC=90.6, DMC=35.4, DC=669.1, ISI=6.7, temp=18.0, RH=33, wind=0.9, rain=0.0, area=0.0, month_num=6.0),\n",
       " Row(X=7, Y=4, month='oct', FFMC=90.6, DMC=43.7, DC=686.9, ISI=6.7, temp=14.6, RH=33, wind=1.3, rain=0.0, area=0.0, month_num=6.0),\n",
       " Row(X=8, Y=6, month='mar', FFMC=91.7, DMC=33.3, DC=77.5, ISI=9.0, temp=8.3, RH=97, wind=4.0, rain=0.2, area=0.0, month_num=2.0)]"
      ]
     },
     "execution_count": 19,
     "metadata": {},
     "output_type": "execute_result"
    }
   ],
   "source": [
    "new_df.head(4)"
   ]
  },
  {
   "cell_type": "markdown",
   "metadata": {},
   "source": [
    "As you can see, we have created a new column called `'month_num'` that represents the month by a number. Now that we have performed this step, we can use Spark's version of `OneHotEncoder()` - `OneHotEncoderEstimator()`. Let's make sure we have an accurate representation of the months."
   ]
  },
  {
   "cell_type": "code",
   "execution_count": 20,
   "metadata": {},
   "outputs": [
    {
     "data": {
      "text/plain": [
       "[Row(month_num=8.0),\n",
       " Row(month_num=0.0),\n",
       " Row(month_num=7.0),\n",
       " Row(month_num=1.0),\n",
       " Row(month_num=4.0),\n",
       " Row(month_num=11.0),\n",
       " Row(month_num=3.0),\n",
       " Row(month_num=2.0),\n",
       " Row(month_num=10.0),\n",
       " Row(month_num=6.0),\n",
       " Row(month_num=5.0),\n",
       " Row(month_num=9.0)]"
      ]
     },
     "execution_count": 20,
     "metadata": {},
     "output_type": "execute_result"
    }
   ],
   "source": [
    "new_df.select('month_num').distinct().collect()"
   ]
  },
  {
   "cell_type": "code",
   "execution_count": 21,
   "metadata": {},
   "outputs": [
    {
     "data": {
      "text/plain": [
       "Row(X=7, Y=5, month='mar', FFMC=86.2, DMC=26.2, DC=94.3, ISI=5.1, temp=8.2, RH=51, wind=6.7, rain=0.0, area=0.0, month_num=2.0, month_vec=SparseVector(11, {2: 1.0}))"
      ]
     },
     "execution_count": 21,
     "metadata": {},
     "output_type": "execute_result"
    }
   ],
   "source": [
    "## fitting and transforming the OneHotEncoderEstimator\n",
    "ohe = feature.OneHotEncoderEstimator(inputCols=['month_num'], outputCols=['month_vec'], dropLast=True)\n",
    "one_hot_encoded = ohe.fit(new_df).transform(new_df)\n",
    "one_hot_encoded.head()\n"
   ]
  },
  {
   "cell_type": "markdown",
   "metadata": {},
   "source": [
    "Great, we now have a OneHotEncoded sparse vector in the `'month_vec'` column! Because Spark is optimized for big data, sparse vectors are used rather than entirely new columns for dummy variables because it is more space efficient. You can see in this first row of the DataFrame:  \n",
    "\n",
    "`month_vec=SparseVector(11, {2: 1.0})` this indicates that we have a sparse vector of size 11 (because of the parameter `dropLast = True` in `OneHotEncoderEstimator()`) and this particular data point is the 2nd index of our month labels (march, based off the labels in the `model` StringEstimator transformer).  \n",
    "\n",
    "The final requirement for all machine learning models in PySpark is to put all of the features of your model into one sparse vector. This is once again for efficiency sake. Here, we are doing that with the `VectorAssembler()` estimator."
   ]
  },
  {
   "cell_type": "code",
   "execution_count": 22,
   "metadata": {},
   "outputs": [],
   "source": [
    "features = ['X',\n",
    " 'Y',\n",
    " 'FFMC',\n",
    " 'DMC',\n",
    " 'DC',\n",
    " 'ISI',\n",
    " 'temp',\n",
    " 'RH',\n",
    " 'wind',\n",
    " 'rain',\n",
    " 'month_vec']\n",
    "\n",
    "target = 'area'\n",
    "\n",
    "vector = VectorAssembler(inputCols=features, outputCol='features')\n",
    "vectorized_df = vector.transform(one_hot_encoded)"
   ]
  },
  {
   "cell_type": "code",
   "execution_count": 23,
   "metadata": {},
   "outputs": [
    {
     "data": {
      "text/plain": [
       "Row(X=7, Y=5, month='mar', FFMC=86.2, DMC=26.2, DC=94.3, ISI=5.1, temp=8.2, RH=51, wind=6.7, rain=0.0, area=0.0, month_num=2.0, month_vec=SparseVector(11, {2: 1.0}), features=SparseVector(21, {0: 7.0, 1: 5.0, 2: 86.2, 3: 26.2, 4: 94.3, 5: 5.1, 6: 8.2, 7: 51.0, 8: 6.7, 12: 1.0}))"
      ]
     },
     "execution_count": 23,
     "metadata": {},
     "output_type": "execute_result"
    }
   ],
   "source": [
    "vectorized_df.head()"
   ]
  },
  {
   "cell_type": "markdown",
   "metadata": {},
   "source": [
    "Great! We now have our data in a format that seems acceptable for the last step. It's time for us to actually fit our model to data! Let's fit a Random Forest Regression model to our data. Although there are still a bunch of other features in the DataFrame, it doesn't matter for the machine learning model API. All that needs to be specified are the names of the features column and the label column. "
   ]
  },
  {
   "cell_type": "code",
   "execution_count": 24,
   "metadata": {},
   "outputs": [],
   "source": [
    "## instantiating and fitting the model\n",
    "rf_model = RandomForestRegressor(featuresCol='features', \n",
    "                                 labelCol='area', predictionCol='prediction').fit(vectorized_df)"
   ]
  },
  {
   "cell_type": "code",
   "execution_count": 25,
   "metadata": {},
   "outputs": [
    {
     "data": {
      "text/plain": [
       "SparseVector(21, {0: 0.0559, 1: 0.0491, 2: 0.1611, 3: 0.1685, 4: 0.1475, 5: 0.0365, 6: 0.1124, 7: 0.0686, 8: 0.1336, 9: 0.0001, 10: 0.0323, 11: 0.0294, 13: 0.0042, 14: 0.0, 15: 0.0002, 16: 0.0, 17: 0.0005, 18: 0.0001, 20: 0.0001})"
      ]
     },
     "execution_count": 25,
     "metadata": {},
     "output_type": "execute_result"
    }
   ],
   "source": [
    "rf_model.featureImportances"
   ]
  },
  {
   "cell_type": "code",
   "execution_count": 26,
   "metadata": {},
   "outputs": [
    {
     "data": {
      "text/plain": [
       "[Row(area=0.0, prediction=5.974987830777268),\n",
       " Row(area=0.0, prediction=5.578249076637878),\n",
       " Row(area=0.0, prediction=5.49991310880965),\n",
       " Row(area=0.0, prediction=6.3292459743228235),\n",
       " Row(area=0.0, prediction=5.91434260610394),\n",
       " Row(area=0.0, prediction=12.001335035210818),\n",
       " Row(area=0.0, prediction=6.914643119143529),\n",
       " Row(area=0.0, prediction=9.043362958227927),\n",
       " Row(area=0.0, prediction=8.11290843134813),\n",
       " Row(area=0.0, prediction=32.90171594692296)]"
      ]
     },
     "execution_count": 26,
     "metadata": {},
     "output_type": "execute_result"
    }
   ],
   "source": [
    "## generating predictions\n",
    "predictions = rf_model.transform(vectorized_df).select('area', 'prediction')\n",
    "predictions.head(10)"
   ]
  },
  {
   "cell_type": "markdown",
   "metadata": {},
   "source": [
    "Now we can evaluate how well the model performed using `RegressionEvaluator`."
   ]
  },
  {
   "cell_type": "code",
   "execution_count": 27,
   "metadata": {},
   "outputs": [],
   "source": [
    "from pyspark.ml.evaluation import RegressionEvaluator\n",
    "evaluator = RegressionEvaluator(predictionCol='prediction', labelCol='area')"
   ]
  },
  {
   "cell_type": "code",
   "execution_count": 28,
   "metadata": {},
   "outputs": [
    {
     "data": {
      "text/plain": [
       "0.7929655447207531"
      ]
     },
     "execution_count": 28,
     "metadata": {},
     "output_type": "execute_result"
    }
   ],
   "source": [
    "## evaluating r^2\n",
    "evaluator.evaluate(predictions,{evaluator.metricName: 'r2'})"
   ]
  },
  {
   "cell_type": "code",
   "execution_count": 29,
   "metadata": {},
   "outputs": [
    {
     "data": {
      "text/plain": [
       "12.66056022067359"
      ]
     },
     "execution_count": 29,
     "metadata": {},
     "output_type": "execute_result"
    }
   ],
   "source": [
    "## evaluating mean absolute error\n",
    "evaluator.evaluate(predictions,{evaluator.metricName: 'mae'})"
   ]
  },
  {
   "cell_type": "markdown",
   "metadata": {},
   "source": [
    "## Putting it all in a Pipeline\n",
    "\n",
    "We just performed a whole lot of transformations to our data. Let's take a look at all the estimators we used to create this model:\n",
    "\n",
    "* `StringIndexer()` \n",
    "* `OneHotEnconderEstimator()` \n",
    "* `VectorAssembler()` \n",
    "* `RandomForestRegressor()` \n",
    "\n",
    "Once we've fit our model in the Pipeline, we're then going to want to evaluate it to determine how well it performs. We can do this with:\n",
    "\n",
    "* `RegressionEvaluator()` \n",
    "\n",
    "We can streamline all of these transformations to make it much more efficient by chaining them together in a pipeline. The Pipeline object expects a list of the estimators prior set to the parameter `stages`."
   ]
  },
  {
   "cell_type": "code",
   "execution_count": 30,
   "metadata": {},
   "outputs": [],
   "source": [
    "# importing relevant libraries\n",
    "from pyspark.ml.tuning import ParamGridBuilder, TrainValidationSplit, CrossValidator\n",
    "from pyspark.ml import Pipeline"
   ]
  },
  {
   "cell_type": "code",
   "execution_count": 31,
   "metadata": {},
   "outputs": [],
   "source": [
    "## instantiating all necessary estimator objects\n",
    "\n",
    "string_indexer = StringIndexer(inputCol='month', outputCol='month_num', handleInvalid='keep')\n",
    "one_hot_encoder = OneHotEncoderEstimator(inputCols=['month_num'], outputCols=['month_vec'], dropLast=True)\n",
    "vector_assember = VectorAssembler(inputCols=features, outputCol='features')\n",
    "random_forest = RandomForestRegressor(featuresCol='features', labelCol='area')\n",
    "stages = [string_indexer, one_hot_encoder, vector_assember, random_forest]\n",
    "\n",
    "# instantiating the pipeline with all them estimator objects\n",
    "pipeline = Pipeline(stages=stages)"
   ]
  },
  {
   "cell_type": "markdown",
   "metadata": {},
   "source": [
    "### Cross-validation \n",
    "\n",
    "You might have missed a critical step in the random forest regression above; we did not cross validate or perform a train/test split! Now we're going to fix that by performing cross-validation and also testing out multiple different combinations of parameters in PySpark's `GridSearch()` equivalent. To begin with, we will create a parameter grid that contains the different parameters we want to use in our model."
   ]
  },
  {
   "cell_type": "code",
   "execution_count": 35,
   "metadata": {},
   "outputs": [],
   "source": [
    "# creating parameter grid\n",
    "\n",
    "params = ParamGridBuilder()\\\n",
    "          .addGrid(random_forest.maxDepth, [5, 10, 15]) \\\n",
    "          .addGrid(random_forest.numTrees, [20 ,50, 100]) \\\n",
    "          .build()"
   ]
  },
  {
   "cell_type": "markdown",
   "metadata": {},
   "source": [
    "Let's take a look at the params variable we just built."
   ]
  },
  {
   "cell_type": "code",
   "execution_count": 36,
   "metadata": {},
   "outputs": [
    {
     "name": "stdout",
     "output_type": "stream",
     "text": [
      "total combinations of parameters:  9\n"
     ]
    },
    {
     "data": {
      "text/plain": [
       "{Param(parent='RandomForestRegressor_e406e97b11ac', name='maxDepth', doc='Maximum depth of the tree. (>= 0) E.g., depth 0 means 1 leaf node; depth 1 means 1 internal node + 2 leaf nodes.'): 5,\n",
       " Param(parent='RandomForestRegressor_e406e97b11ac', name='numTrees', doc='Number of trees to train (>= 1).'): 20}"
      ]
     },
     "execution_count": 36,
     "metadata": {},
     "output_type": "execute_result"
    }
   ],
   "source": [
    "print('total combinations of parameters: ', len(params))\n",
    "\n",
    "params[0]"
   ]
  },
  {
   "cell_type": "markdown",
   "metadata": {},
   "source": [
    "Now it's time to combine all the steps we've created to work in a single line of code with the `CrossValidator()` estimator."
   ]
  },
  {
   "cell_type": "code",
   "execution_count": 37,
   "metadata": {},
   "outputs": [],
   "source": [
    "## instantiating the evaluator by which we will measure our model's performance\n",
    "reg_evaluator = RegressionEvaluator(predictionCol='prediction', labelCol='area', metricName = 'mae')\n",
    "\n",
    "## instantiating crossvalidator estimator\n",
    "cv = CrossValidator(estimator=pipeline, estimatorParamMaps=params, evaluator=reg_evaluator, parallelism=4)"
   ]
  },
  {
   "cell_type": "code",
   "execution_count": 38,
   "metadata": {},
   "outputs": [],
   "source": [
    "## fitting crossvalidator\n",
    "cross_validated_model = cv.fit(fire_df)"
   ]
  },
  {
   "cell_type": "markdown",
   "metadata": {},
   "source": [
    "Now, let's see how well the model performed! Let's take a look at the average performance for each one of our 9 models. It looks like the optimal performance is an MAE around 23. Note that this is worse than our original model, but that's because our original model had substantial data leakage. We didn't do a train-test split!"
   ]
  },
  {
   "cell_type": "code",
   "execution_count": 39,
   "metadata": {
    "scrolled": true
   },
   "outputs": [
    {
     "data": {
      "text/plain": [
       "[20.92940797000544,\n",
       " 22.11368375331735,\n",
       " 22.212399138674723,\n",
       " 21.99391041677953,\n",
       " 22.7815085890673,\n",
       " 23.19939143573415,\n",
       " 22.16283547302353,\n",
       " 22.905680518086715,\n",
       " 23.33006990430982]"
      ]
     },
     "execution_count": 39,
     "metadata": {},
     "output_type": "execute_result"
    }
   ],
   "source": [
    "cross_validated_model.avgMetrics"
   ]
  },
  {
   "cell_type": "markdown",
   "metadata": {},
   "source": [
    "Now, let's take a look at the optimal parameters of our best performing model. The `cross_validated_model` variable is now saved as the best performing model from the grid search just performed. Let's look to see how well the predictions performed. As you can see, this dataset has a large number of areas of \"0.0\" burned. Perhaps, it would be better to investigate this problem as a classification task."
   ]
  },
  {
   "cell_type": "code",
   "execution_count": 40,
   "metadata": {},
   "outputs": [
    {
     "name": "stdout",
     "output_type": "stream",
     "text": [
      "+------------------+-------+\n",
      "|        prediction|   area|\n",
      "+------------------+-------+\n",
      "| 6.993539650184123|    0.0|\n",
      "| 4.688801648511088|    0.0|\n",
      "| 4.688801648511088|    0.0|\n",
      "|11.522360908576855|    0.0|\n",
      "| 5.269995682310206|    0.0|\n",
      "| 5.785599029448315|    0.0|\n",
      "| 5.807635823441313|    0.0|\n",
      "|6.6849594785704385|    0.0|\n",
      "| 8.694403766921901|    0.0|\n",
      "| 6.198368901970645|    0.0|\n",
      "| 6.557777135467035|    0.0|\n",
      "| 6.600791098532367|    0.0|\n",
      "| 7.057365098257202|    0.0|\n",
      "| 9.413055014115788|    0.0|\n",
      "|186.09075743397608|    0.0|\n",
      "| 7.635719091126658|    0.0|\n",
      "|  4.74495466013307|    0.0|\n",
      "| 5.395806562249733|    0.0|\n",
      "|  5.06719875625729|    0.0|\n",
      "| 8.624763649294806|    0.0|\n",
      "| 8.878595204693607|    0.0|\n",
      "| 4.471025900978805|    0.0|\n",
      "|7.5082960487069474|    0.0|\n",
      "|13.395517750352667|    0.0|\n",
      "| 7.981915130884902|    0.0|\n",
      "| 5.523831826202275|    0.0|\n",
      "| 8.343200846981537|    0.0|\n",
      "|   9.3540900275143|    0.0|\n",
      "| 65.65899480270699|    0.0|\n",
      "| 7.070571991052821|    0.0|\n",
      "|165.71895618624188|    0.0|\n",
      "| 5.559706515185875|    0.0|\n",
      "| 5.228842963801565|    0.0|\n",
      "| 5.318137454892175|    0.0|\n",
      "|  6.49366764457609|    0.0|\n",
      "| 5.630840037563162|    0.0|\n",
      "| 77.11469494524394|    0.0|\n",
      "| 6.563229552131098|    0.0|\n",
      "|22.198691526884954|    0.0|\n",
      "| 4.149139452560837|    0.0|\n",
      "|23.468197057831084|    0.0|\n",
      "| 5.077070013891882|    0.0|\n",
      "| 3.601592645200887|    0.0|\n",
      "| 4.675090037641854|    0.0|\n",
      "| 6.504618504796282|    0.0|\n",
      "|3.5091361928294793|    0.0|\n",
      "| 7.253079220206006|    0.0|\n",
      "| 8.002438158238109|    0.0|\n",
      "|3.7282979977768833|    0.0|\n",
      "| 5.195336041279026|    0.0|\n",
      "|  9.22884014808159|    0.0|\n",
      "| 5.096453208108516|    0.0|\n",
      "| 4.117089954878414|    0.0|\n",
      "| 4.117089954878414|    0.0|\n",
      "| 4.234963353803658|    0.0|\n",
      "|11.696158397445599|    0.0|\n",
      "| 6.504618504796282|    0.0|\n",
      "|3.7397489429205835|    0.0|\n",
      "| 5.847358421762039|    0.0|\n",
      "|14.935295108044409|    0.0|\n",
      "| 3.927789212968714|    0.0|\n",
      "| 5.810183155449001|    0.0|\n",
      "|3.7902887358826747|    0.0|\n",
      "| 5.002894256482838|    0.0|\n",
      "| 5.718716809945636|    0.0|\n",
      "| 4.291541411702552|    0.0|\n",
      "|30.011878553430808|    0.0|\n",
      "|31.135523414775133|    0.0|\n",
      "|31.324089686964488|    0.0|\n",
      "| 3.604427668141356|    0.0|\n",
      "| 4.591237174866726|    0.0|\n",
      "| 3.730230049156855|    0.0|\n",
      "| 4.038355323370114|    0.0|\n",
      "| 4.923412967341504|    0.0|\n",
      "| 7.633457981189963|    0.0|\n",
      "|15.170259125107773|    0.0|\n",
      "|21.786075016580643|    0.0|\n",
      "| 7.620785366424501|    0.0|\n",
      "| 5.064204000337996|    0.0|\n",
      "|  70.5640748131058|    0.0|\n",
      "|19.163591472129994|    0.0|\n",
      "| 13.82366641980131|    0.0|\n",
      "| 5.575186481814083|    0.0|\n",
      "|2.9723694907192146|    0.0|\n",
      "| 5.563276785326371|    0.0|\n",
      "|11.121157432936183|    0.0|\n",
      "| 8.010654048248977|    0.0|\n",
      "| 8.076191172305922|    0.0|\n",
      "| 8.707510787816762|    0.0|\n",
      "| 4.168573446491541|    0.0|\n",
      "|6.6901364515594866|    0.0|\n",
      "| 4.235422328556696|    0.0|\n",
      "| 6.140733929088645|    0.0|\n",
      "| 25.46731366348127|    0.0|\n",
      "| 6.914580305676277|    0.0|\n",
      "| 6.022985656354793|    0.0|\n",
      "| 4.105325074162841|    0.0|\n",
      "| 5.759200834345091|    0.0|\n",
      "| 4.656052041860573|    0.0|\n",
      "| 12.34691104633863|    0.0|\n",
      "| 12.34691104633863|    0.0|\n",
      "|  4.94689433256804|    0.0|\n",
      "|4.1447000053439655|    0.0|\n",
      "| 9.695922545583478|    0.0|\n",
      "|  4.70637140618897|    0.0|\n",
      "| 5.083294648996086|    0.0|\n",
      "| 4.579333395785764|    0.0|\n",
      "| 5.096453208108516|    0.0|\n",
      "| 5.156810140356454|    0.0|\n",
      "| 5.389050093309551|    0.0|\n",
      "| 4.934777207135621|    0.0|\n",
      "|3.1797996690986485|    0.0|\n",
      "| 5.710195467088059|    0.0|\n",
      "| 4.245602248284195|    0.0|\n",
      "| 5.956914118015939|    0.0|\n",
      "| 5.343038670531981|    0.0|\n",
      "| 4.346093937474132|    0.0|\n",
      "|6.3911614637876655|    0.0|\n",
      "| 4.068714786426968|    0.0|\n",
      "|3.9304351317874393|    0.0|\n",
      "| 4.446791536302793|    0.0|\n",
      "| 4.316037076718187|    0.0|\n",
      "| 7.466863624011057|    0.0|\n",
      "| 4.157390412192929|    0.0|\n",
      "| 4.875553617887815|    0.0|\n",
      "|11.282889893372682|    0.0|\n",
      "|  4.20337625364435|    0.0|\n",
      "| 7.175991559777968|    0.0|\n",
      "| 4.104708628140762|    0.0|\n",
      "| 20.67027886823083|    0.0|\n",
      "| 4.730102032371635|    0.0|\n",
      "|  4.26957440552889|    0.0|\n",
      "| 4.044082952093269|    0.0|\n",
      "|  3.66802945391876|    0.0|\n",
      "|3.9237157998662253|    0.0|\n",
      "| 7.100312585772697|    0.0|\n",
      "|10.227979492459736|    0.0|\n",
      "| 6.909505009174853|    0.0|\n",
      "|10.373742816265324|   0.36|\n",
      "|10.797386638305865|   0.43|\n",
      "| 9.294251401315643|   0.47|\n",
      "| 5.486254163760329|   0.55|\n",
      "|14.476168539246776|   0.61|\n",
      "|  9.01602780716451|   0.71|\n",
      "|  4.60941493555697|   0.77|\n",
      "| 6.619231622984981|    0.9|\n",
      "| 4.267290010897378|   0.95|\n",
      "|17.529758491983525|   0.96|\n",
      "| 4.980324173444884|   1.07|\n",
      "|6.0489907433910375|   1.12|\n",
      "| 4.994440657117431|   1.19|\n",
      "|23.956891001505745|   1.36|\n",
      "|5.5021152100140975|   1.43|\n",
      "| 4.649261951221147|   1.46|\n",
      "| 19.75729692863618|   1.46|\n",
      "| 5.318035661427816|   1.56|\n",
      "| 10.33050707356372|   1.61|\n",
      "| 3.111173095274244|   1.63|\n",
      "| 4.039863202566597|   1.64|\n",
      "| 8.343200846981537|   1.69|\n",
      "|6.9614337673049915|   1.75|\n",
      "|6.6421826842387945|    1.9|\n",
      "| 5.658310101120863|   1.94|\n",
      "| 9.940345652591748|   1.95|\n",
      "|  6.24432751796099|   2.01|\n",
      "| 5.389851822242378|   2.14|\n",
      "| 4.346211394218024|   2.29|\n",
      "| 6.681726060579227|   2.51|\n",
      "| 8.749929735439213|   2.53|\n",
      "| 9.371691327539782|   2.55|\n",
      "| 7.637853717309953|   2.57|\n",
      "| 8.184262291155301|   2.69|\n",
      "|12.767976124848719|   2.74|\n",
      "| 7.107026818551492|   3.07|\n",
      "|3.3311277025643777|    3.5|\n",
      "|3.8789274432973797|   4.53|\n",
      "|  8.08730094146886|   4.61|\n",
      "| 4.848087768530304|   4.69|\n",
      "| 4.611881357686594|   4.88|\n",
      "|17.265602537465924|   5.23|\n",
      "| 8.058766117218653|   5.33|\n",
      "|  8.59484447215076|   5.44|\n",
      "| 5.770358467942792|   6.38|\n",
      "| 6.915782002918826|   6.83|\n",
      "| 6.622306567739395|   6.96|\n",
      "| 7.750300042931029|   7.04|\n",
      "| 8.039363675455412|   7.19|\n",
      "| 10.22731959805445|    7.3|\n",
      "|4.2949930744400255|    7.4|\n",
      "|6.8598008989774275|   8.24|\n",
      "| 5.242295393804098|   8.31|\n",
      "| 6.820983790185986|   8.68|\n",
      "| 5.513618138030187|   8.71|\n",
      "| 7.228355598392149|   9.41|\n",
      "| 5.513618138030187|  10.01|\n",
      "| 6.083845980007841|  10.02|\n",
      "|  8.08730094146886|  10.93|\n",
      "|11.244904308709609|  11.06|\n",
      "|  9.63402895215594|  11.24|\n",
      "|7.0305331658284755|  11.32|\n",
      "| 10.62838522305445|  11.53|\n",
      "| 5.707801668203225|   12.1|\n",
      "| 7.462028963802813|  13.05|\n",
      "| 8.884171173199828|   13.7|\n",
      "| 6.149683953377664|  13.99|\n",
      "| 8.070282288738525|  14.57|\n",
      "| 9.116523756741163|  15.45|\n",
      "| 9.797316666023502|   17.2|\n",
      "| 8.348126198435114|  19.23|\n",
      "| 7.908905326724371|  23.41|\n",
      "| 7.127272324297294|  24.23|\n",
      "| 9.423622557476389|   26.0|\n",
      "| 6.858048673343825|  26.13|\n",
      "| 6.993539650184123|  27.35|\n",
      "| 6.616585116482275|  28.66|\n",
      "| 6.616585116482275|  28.66|\n",
      "|10.481304988472319|  29.48|\n",
      "| 8.377585403118019|  30.32|\n",
      "|12.429368594423895|  31.72|\n",
      "| 9.738220828196955|  31.86|\n",
      "|  9.50911991870375|  32.07|\n",
      "| 9.229395240627575|  35.88|\n",
      "| 5.195336041279026|  36.85|\n",
      "|18.112682894208714|  37.02|\n",
      "| 7.457908797579276|  37.71|\n",
      "|10.135631745620806|  48.55|\n",
      "| 6.915782002918826|  49.37|\n",
      "|20.391769200832005|   58.3|\n",
      "| 29.84298865641241|   64.1|\n",
      "|12.344705155133209|   71.3|\n",
      "| 36.83435591882461|  88.49|\n",
      "|36.259680220198426|  95.18|\n",
      "| 16.67799787990016| 103.39|\n",
      "| 40.90425165355538| 105.66|\n",
      "|135.99931057597766| 154.88|\n",
      "| 46.99145698450478| 196.48|\n",
      "| 63.69112252543175| 200.94|\n",
      "| 65.45140727330872| 212.88|\n",
      "| 779.2482999768928|1090.84|\n",
      "| 5.954408969291854|    0.0|\n",
      "|10.672845827143732|    0.0|\n",
      "| 6.673156060538668|    0.0|\n",
      "|4.8787180505913845|  10.13|\n",
      "| 9.822863801085564|    0.0|\n",
      "| 7.804366264694503|   2.87|\n",
      "|10.682763666061243|   0.76|\n",
      "| 4.900075655535356|   0.09|\n",
      "| 6.183141015756359|   0.75|\n",
      "|13.166403757927863|    0.0|\n",
      "| 5.840020821162331|   2.47|\n",
      "|26.882100157044185|   0.68|\n",
      "| 7.182131736941123|   0.24|\n",
      "| 6.162881807872081|   0.21|\n",
      "|6.1310891439344255|   1.52|\n",
      "|14.699080484810661|  10.34|\n",
      "| 7.039818484891045|    0.0|\n",
      "|10.037116088155559|   8.02|\n",
      "|3.9044728991847153|   0.68|\n",
      "| 7.183459611466627|    0.0|\n",
      "|  5.86351350758662|   1.38|\n",
      "| 6.048786867504015|   8.85|\n",
      "| 6.097597861425524|    3.3|\n",
      "| 4.940957366626221|   4.25|\n",
      "|14.085646516905314|   1.56|\n",
      "| 6.399847802011395|   6.54|\n",
      "| 6.721552368389567|   0.79|\n",
      "| 7.374588261328784|   0.17|\n",
      "|  59.1875389195708|    0.0|\n",
      "| 5.455453886861961|    0.0|\n",
      "| 6.225272044228427|    4.4|\n",
      "|11.671942916044607|   0.52|\n",
      "|10.593382266892656|   9.27|\n",
      "| 5.522065482702829|   3.09|\n",
      "| 6.334056245041178|   8.98|\n",
      "|  8.15187103025314|  11.19|\n",
      "| 6.437545068328545|   5.38|\n",
      "|10.090320255122208|  17.85|\n",
      "| 9.864896602427597|  10.73|\n",
      "|10.090320255122208|  22.03|\n",
      "|10.090320255122208|   9.77|\n",
      "| 6.437545068328545|   9.27|\n",
      "|10.967235453853217|  24.77|\n",
      "| 5.160427313068636|    0.0|\n",
      "|  5.03305974917306|    1.1|\n",
      "| 8.598158449012196|  24.24|\n",
      "| 9.148644042886959|    0.0|\n",
      "| 9.274611366200471|    0.0|\n",
      "| 8.833165961091007|    0.0|\n",
      "| 8.391227723285487|    0.0|\n",
      "|  8.17321621769706|    0.0|\n",
      "| 3.396591282107482|    0.0|\n",
      "|21.789152855367092|    8.0|\n",
      "| 5.875585017670142|   2.64|\n",
      "| 37.47187706507481|  86.45|\n",
      "| 9.656107517087339|   6.57|\n",
      "| 6.459787529936253|    0.0|\n",
      "| 6.095641410031385|    0.9|\n",
      "| 7.824484572246478|    0.0|\n",
      "|20.498230779588035|    0.0|\n",
      "| 6.659969592465906|    0.0|\n",
      "+------------------+-------+\n",
      "only showing top 300 rows\n",
      "\n"
     ]
    }
   ],
   "source": [
    "predictions = cross_validated_model.transform(spark_df)\n",
    "predictions.select('prediction', 'area').show(300)"
   ]
  },
  {
   "cell_type": "markdown",
   "metadata": {},
   "source": [
    "Now let's go ahead and take a look at the feature importances of our random forest model. In order to do this, we need to unroll our pipeline to access the random forest model. Let's start by first checking out the `.bestModel` attribute of our `cross_validated_model`. "
   ]
  },
  {
   "cell_type": "code",
   "execution_count": 41,
   "metadata": {
    "slideshow": {
     "slide_type": "slide"
    }
   },
   "outputs": [
    {
     "data": {
      "text/plain": [
       "pyspark.ml.pipeline.PipelineModel"
      ]
     },
     "execution_count": 41,
     "metadata": {},
     "output_type": "execute_result"
    }
   ],
   "source": [
    "type(cross_validated_model.bestModel)"
   ]
  },
  {
   "cell_type": "markdown",
   "metadata": {},
   "source": [
    "`ml` is treating the entire pipeline as the best performing model, so we need to go deeper into the pipeline to access the random forest model within it. Previously, we put the random forest model as the final \"stage\" in the stages variable list. Let's look at the `.stages` attribute of the `.bestModel`."
   ]
  },
  {
   "cell_type": "code",
   "execution_count": 42,
   "metadata": {},
   "outputs": [
    {
     "data": {
      "text/plain": [
       "[StringIndexer_cd37a573d391,\n",
       " OneHotEncoderEstimator_af95eddb0c54,\n",
       " VectorAssembler_c3f963b60eb2,\n",
       " RandomForestRegressionModel (uid=RandomForestRegressor_e406e97b11ac) with 20 trees]"
      ]
     },
     "execution_count": 42,
     "metadata": {},
     "output_type": "execute_result"
    }
   ],
   "source": [
    "cross_validated_model.bestModel.stages"
   ]
  },
  {
   "cell_type": "markdown",
   "metadata": {},
   "source": [
    "Perfect! There's the RandomForestRegressionModel, represented by the last item in the stages list. Now, we should be able to access all the attributes of the random forest regressor."
   ]
  },
  {
   "cell_type": "code",
   "execution_count": 43,
   "metadata": {},
   "outputs": [],
   "source": [
    "optimal_rf_model = cross_validated_model.bestModel.stages[3]"
   ]
  },
  {
   "cell_type": "code",
   "execution_count": 44,
   "metadata": {},
   "outputs": [
    {
     "data": {
      "text/plain": [
       "SparseVector(22, {0: 0.1376, 1: 0.047, 2: 0.158, 3: 0.0908, 4: 0.1879, 5: 0.0441, 6: 0.1632, 7: 0.0611, 8: 0.0808, 10: 0.0017, 11: 0.0251, 12: 0.0, 13: 0.0018, 15: 0.0001, 16: 0.0002, 17: 0.0003, 18: 0.0001, 20: 0.0003})"
      ]
     },
     "execution_count": 44,
     "metadata": {},
     "output_type": "execute_result"
    }
   ],
   "source": [
    "optimal_rf_model.featureImportances"
   ]
  },
  {
   "cell_type": "code",
   "execution_count": 45,
   "metadata": {},
   "outputs": [
    {
     "data": {
      "text/plain": [
       "20"
      ]
     },
     "execution_count": 45,
     "metadata": {},
     "output_type": "execute_result"
    }
   ],
   "source": [
    "optimal_rf_model.getNumTrees"
   ]
  },
  {
   "cell_type": "markdown",
   "metadata": {},
   "source": [
    "## Summary\n",
    "\n",
    "In this lesson, you learned about PySpark's DataFrames, machine learning models, and pipelines. With the use of a pipeline, you can train a huge number of models simultaneously, saving you a substantial amount of time and effort. Up next, you will have a chance to build a PySpark machine learning pipeline of your own with a classification problem!"
   ]
  }
 ],
 "metadata": {
  "kernelspec": {
   "display_name": "Python 3",
   "language": "python",
   "name": "python3"
  },
  "language_info": {
   "codemirror_mode": {
    "name": "ipython",
    "version": 3
   },
   "file_extension": ".py",
   "mimetype": "text/x-python",
   "name": "python",
   "nbconvert_exporter": "python",
   "pygments_lexer": "ipython3",
   "version": "3.7.6"
  }
 },
 "nbformat": 4,
 "nbformat_minor": 2
}
